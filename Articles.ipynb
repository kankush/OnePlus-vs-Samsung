{
 "cells": [
  {
   "cell_type": "code",
   "execution_count": 1,
   "metadata": {},
   "outputs": [],
   "source": [
    "#importing all the necessary \n",
    "import requests\n",
    "import urllib.request\n",
    "import time\n",
    "from bs4 import BeautifulSoup\n",
    "from urllib.parse import urljoin\n",
    "import pandas as pd"
   ]
  },
  {
   "cell_type": "markdown",
   "metadata": {},
   "source": [
    "## India Today Article"
   ]
  },
  {
   "cell_type": "code",
   "execution_count": 2,
   "metadata": {},
   "outputs": [],
   "source": [
    "#making a request to the static web page and getting the html content of the page\n",
    "link=\"https://www.indiatoday.in/technology/features/story/oneplus-6-and-samsung-galaxy-s8-available-at-under-rs-30-000-which-one-should-you-buy-1359188-2018-10-09\"\n",
    "a = requests.get(link)\n",
    "soup = BeautifulSoup(a.text, 'html.parser')"
   ]
  },
  {
   "cell_type": "code",
   "execution_count": 3,
   "metadata": {},
   "outputs": [],
   "source": [
    "#Using structure of html to extract the desired text \n",
    "records1=[]\n",
    "headline = soup.find('h1', attrs={'itemprop':'headline'}).text\n",
    "story = soup.find('div', attrs={'itemprop':'articleBody'}).text\n",
    "records1.append((headline,story))\n",
    "#print(headline)\n",
    "#print(story)"
   ]
  },
  {
   "cell_type": "code",
   "execution_count": 4,
   "metadata": {},
   "outputs": [
    {
     "data": {
      "text/html": [
       "<div>\n",
       "<style scoped>\n",
       "    .dataframe tbody tr th:only-of-type {\n",
       "        vertical-align: middle;\n",
       "    }\n",
       "\n",
       "    .dataframe tbody tr th {\n",
       "        vertical-align: top;\n",
       "    }\n",
       "\n",
       "    .dataframe thead th {\n",
       "        text-align: right;\n",
       "    }\n",
       "</style>\n",
       "<table border=\"1\" class=\"dataframe\">\n",
       "  <thead>\n",
       "    <tr style=\"text-align: right;\">\n",
       "      <th></th>\n",
       "      <th>headline</th>\n",
       "      <th>story</th>\n",
       "    </tr>\n",
       "  </thead>\n",
       "  <tbody>\n",
       "    <tr>\n",
       "      <th>0</th>\n",
       "      <td>OnePlus 6 and Samsung Galaxy S8 available at u...</td>\n",
       "      <td>The festive season in India has begun and this...</td>\n",
       "    </tr>\n",
       "  </tbody>\n",
       "</table>\n",
       "</div>"
      ],
      "text/plain": [
       "                                            headline  \\\n",
       "0  OnePlus 6 and Samsung Galaxy S8 available at u...   \n",
       "\n",
       "                                               story  \n",
       "0  The festive season in India has begun and this...  "
      ]
     },
     "execution_count": 4,
     "metadata": {},
     "output_type": "execute_result"
    }
   ],
   "source": [
    "#writing the scraped content to records dataframe\n",
    "df=pd.DataFrame(records1, columns=['headline', 'story'])\n",
    "df.head()"
   ]
  },
  {
   "cell_type": "code",
   "execution_count": 5,
   "metadata": {},
   "outputs": [],
   "source": [
    "#exporting the data to csv\n",
    "df.to_csv('Articles.csv', index=False, encoding='utf-8')"
   ]
  },
  {
   "cell_type": "markdown",
   "metadata": {},
   "source": [
    "## Business insider"
   ]
  },
  {
   "cell_type": "code",
   "execution_count": 6,
   "metadata": {},
   "outputs": [],
   "source": [
    "link=\"https://www.businessinsider.in/I-switched-to-Android-after-more-than-a-decade-on-iPhone-and-Im-not-going-back-Heres-why/articleshow/66818883.cms\"\n",
    "a = requests.get(link)\n",
    "soup = BeautifulSoup(a.text, 'html.parser')"
   ]
  },
  {
   "cell_type": "code",
   "execution_count": 7,
   "metadata": {},
   "outputs": [],
   "source": [
    "records2=[]\n",
    "headline = soup.find('h1', attrs={'itemprop':'headline'}).text\n",
    "story = soup.find('div', attrs={'class':'Normal'}).text\n",
    "#print(headline)\n",
    "#print(story)\n",
    "records2.append((headline,story))"
   ]
  },
  {
   "cell_type": "code",
   "execution_count": 8,
   "metadata": {},
   "outputs": [
    {
     "data": {
      "text/html": [
       "<div>\n",
       "<style scoped>\n",
       "    .dataframe tbody tr th:only-of-type {\n",
       "        vertical-align: middle;\n",
       "    }\n",
       "\n",
       "    .dataframe tbody tr th {\n",
       "        vertical-align: top;\n",
       "    }\n",
       "\n",
       "    .dataframe thead th {\n",
       "        text-align: right;\n",
       "    }\n",
       "</style>\n",
       "<table border=\"1\" class=\"dataframe\">\n",
       "  <thead>\n",
       "    <tr style=\"text-align: right;\">\n",
       "      <th></th>\n",
       "      <th>headline</th>\n",
       "      <th>story</th>\n",
       "    </tr>\n",
       "  </thead>\n",
       "  <tbody>\n",
       "    <tr>\n",
       "      <th>0</th>\n",
       "      <td>I switched to Android after more than a decade...</td>\n",
       "      <td>Switching from the iPhone XS Max to the Google...</td>\n",
       "    </tr>\n",
       "  </tbody>\n",
       "</table>\n",
       "</div>"
      ],
      "text/plain": [
       "                                            headline  \\\n",
       "0  I switched to Android after more than a decade...   \n",
       "\n",
       "                                               story  \n",
       "0  Switching from the iPhone XS Max to the Google...  "
      ]
     },
     "execution_count": 8,
     "metadata": {},
     "output_type": "execute_result"
    }
   ],
   "source": [
    "df1=pd.DataFrame(records2, columns=['headline', 'story'])\n",
    "df1.head()"
   ]
  },
  {
   "cell_type": "code",
   "execution_count": 9,
   "metadata": {},
   "outputs": [],
   "source": [
    "df1.to_csv('A1.csv', index=False, encoding='utf-8')"
   ]
  },
  {
   "cell_type": "markdown",
   "metadata": {},
   "source": [
    "## Gadgets 360"
   ]
  },
  {
   "cell_type": "code",
   "execution_count": 10,
   "metadata": {},
   "outputs": [],
   "source": [
    "link=\"https://gadgets.ndtv.com/mobiles/reviews/oneplus-6t-review-price-in-india-1940134\"\n",
    "a = requests.get(link)\n",
    "soup = BeautifulSoup(a.text, 'html.parser')"
   ]
  },
  {
   "cell_type": "code",
   "execution_count": 11,
   "metadata": {},
   "outputs": [],
   "source": [
    "records3=[]\n",
    "headline = soup.find('h1', attrs={'itemprop':'headline'}).text\n",
    "story = soup.find('div', attrs={'class':'content_text row description'}).text\n",
    "#print(headline)\n",
    "#print(story)\n",
    "records3.append((headline,story))"
   ]
  },
  {
   "cell_type": "code",
   "execution_count": 12,
   "metadata": {},
   "outputs": [
    {
     "data": {
      "text/html": [
       "<div>\n",
       "<style scoped>\n",
       "    .dataframe tbody tr th:only-of-type {\n",
       "        vertical-align: middle;\n",
       "    }\n",
       "\n",
       "    .dataframe tbody tr th {\n",
       "        vertical-align: top;\n",
       "    }\n",
       "\n",
       "    .dataframe thead th {\n",
       "        text-align: right;\n",
       "    }\n",
       "</style>\n",
       "<table border=\"1\" class=\"dataframe\">\n",
       "  <thead>\n",
       "    <tr style=\"text-align: right;\">\n",
       "      <th></th>\n",
       "      <th>headline</th>\n",
       "      <th>story</th>\n",
       "    </tr>\n",
       "  </thead>\n",
       "  <tbody>\n",
       "    <tr>\n",
       "      <th>0</th>\n",
       "      <td>OnePlus 6T Review</td>\n",
       "      <td>Even by the standards of OnePlus's previous pr...</td>\n",
       "    </tr>\n",
       "  </tbody>\n",
       "</table>\n",
       "</div>"
      ],
      "text/plain": [
       "            headline                                              story\n",
       "0  OnePlus 6T Review  Even by the standards of OnePlus's previous pr..."
      ]
     },
     "execution_count": 12,
     "metadata": {},
     "output_type": "execute_result"
    }
   ],
   "source": [
    "df2=pd.DataFrame(records3, columns=['headline', 'story'])\n",
    "df2.head()"
   ]
  },
  {
   "cell_type": "code",
   "execution_count": 13,
   "metadata": {},
   "outputs": [],
   "source": [
    "df2.to_csv('A2.csv', index=False, encoding='utf-8')"
   ]
  },
  {
   "cell_type": "markdown",
   "metadata": {},
   "source": [
    "# India today"
   ]
  },
  {
   "cell_type": "code",
   "execution_count": 14,
   "metadata": {},
   "outputs": [],
   "source": [
    "link=\"https://www.indiatoday.in/technology/news/story/oneplus-smartphones-are-used-longer-than-other-premium-phones-says-report-1561959-2019-07-04\"\n",
    "a = requests.get(link)\n",
    "soup = BeautifulSoup(a.text, 'html.parser')"
   ]
  },
  {
   "cell_type": "code",
   "execution_count": 15,
   "metadata": {},
   "outputs": [],
   "source": [
    "records4=[]\n",
    "headline = soup.find('h1', attrs={'itemprop':'headline'}).text\n",
    "story = soup.find('div', attrs={'itemprop':'articleBody'}).text\n",
    "#print(headline)\n",
    "#print(story)\n",
    "records4.append((headline,story))"
   ]
  },
  {
   "cell_type": "code",
   "execution_count": 16,
   "metadata": {},
   "outputs": [
    {
     "data": {
      "text/html": [
       "<div>\n",
       "<style scoped>\n",
       "    .dataframe tbody tr th:only-of-type {\n",
       "        vertical-align: middle;\n",
       "    }\n",
       "\n",
       "    .dataframe tbody tr th {\n",
       "        vertical-align: top;\n",
       "    }\n",
       "\n",
       "    .dataframe thead th {\n",
       "        text-align: right;\n",
       "    }\n",
       "</style>\n",
       "<table border=\"1\" class=\"dataframe\">\n",
       "  <thead>\n",
       "    <tr style=\"text-align: right;\">\n",
       "      <th></th>\n",
       "      <th>headline</th>\n",
       "      <th>story</th>\n",
       "    </tr>\n",
       "  </thead>\n",
       "  <tbody>\n",
       "    <tr>\n",
       "      <th>0</th>\n",
       "      <td>OnePlus smartphones are used longer than other...</td>\n",
       "      <td>There's no doubt that OnePlus makes some of th...</td>\n",
       "    </tr>\n",
       "  </tbody>\n",
       "</table>\n",
       "</div>"
      ],
      "text/plain": [
       "                                            headline  \\\n",
       "0  OnePlus smartphones are used longer than other...   \n",
       "\n",
       "                                               story  \n",
       "0  There's no doubt that OnePlus makes some of th...  "
      ]
     },
     "execution_count": 16,
     "metadata": {},
     "output_type": "execute_result"
    }
   ],
   "source": [
    "df3=pd.DataFrame(records4, columns=['headline', 'story'])\n",
    "df3.head()"
   ]
  },
  {
   "cell_type": "code",
   "execution_count": 17,
   "metadata": {},
   "outputs": [],
   "source": [
    "df3.to_csv('A3.csv', index=False, encoding='utf-8')"
   ]
  },
  {
   "cell_type": "markdown",
   "metadata": {},
   "source": [
    "# Tech 2"
   ]
  },
  {
   "cell_type": "code",
   "execution_count": 18,
   "metadata": {},
   "outputs": [],
   "source": [
    "link=\"https://www.firstpost.com/tech/reviews/oneplus-6t-review-a-notch-above-or-is-it-5474251.html\"\n",
    "a = requests.get(link)\n",
    "soup = BeautifulSoup(a.text, 'html.parser')"
   ]
  },
  {
   "cell_type": "code",
   "execution_count": 19,
   "metadata": {},
   "outputs": [],
   "source": [
    "records5=[]\n",
    "headline = soup.find('h1', attrs={'class':'post-title'}).text\n",
    "story = soup.find('div', attrs={'class':'review-article article-content'}).text\n",
    "#print(headline)\n",
    "#print(story)\n",
    "records5.append((headline,story))"
   ]
  },
  {
   "cell_type": "code",
   "execution_count": 21,
   "metadata": {},
   "outputs": [
    {
     "data": {
      "text/html": [
       "<div>\n",
       "<style scoped>\n",
       "    .dataframe tbody tr th:only-of-type {\n",
       "        vertical-align: middle;\n",
       "    }\n",
       "\n",
       "    .dataframe tbody tr th {\n",
       "        vertical-align: top;\n",
       "    }\n",
       "\n",
       "    .dataframe thead th {\n",
       "        text-align: right;\n",
       "    }\n",
       "</style>\n",
       "<table border=\"1\" class=\"dataframe\">\n",
       "  <thead>\n",
       "    <tr style=\"text-align: right;\">\n",
       "      <th></th>\n",
       "      <th>headline</th>\n",
       "      <th>story</th>\n",
       "    </tr>\n",
       "  </thead>\n",
       "  <tbody>\n",
       "    <tr>\n",
       "      <th>0</th>\n",
       "      <td>OnePlus 6T review: A notch above the competiti...</td>\n",
       "      <td>The OnePlus 6T is not a phone you want to thin...</td>\n",
       "    </tr>\n",
       "  </tbody>\n",
       "</table>\n",
       "</div>"
      ],
      "text/plain": [
       "                                            headline  \\\n",
       "0  OnePlus 6T review: A notch above the competiti...   \n",
       "\n",
       "                                               story  \n",
       "0  The OnePlus 6T is not a phone you want to thin...  "
      ]
     },
     "execution_count": 21,
     "metadata": {},
     "output_type": "execute_result"
    }
   ],
   "source": [
    "df4=pd.DataFrame(records5, columns=['headline', 'story'])\n",
    "df4.head()"
   ]
  },
  {
   "cell_type": "code",
   "execution_count": 82,
   "metadata": {},
   "outputs": [],
   "source": [
    "df4.to_csv('A4.csv', index=False, encoding='utf-8')"
   ]
  },
  {
   "cell_type": "markdown",
   "metadata": {},
   "source": [
    "# India today"
   ]
  },
  {
   "cell_type": "code",
   "execution_count": 22,
   "metadata": {},
   "outputs": [],
   "source": [
    "link=\"https://www.indiatoday.in/technology/features/story/samsung-galaxy-s8-price-rs-38000-paytm-mall-vs-oneplus-6-honor-10-1266718-2018-06-22\"\n",
    "a = requests.get(link)\n",
    "soup = BeautifulSoup(a.text, 'html.parser')"
   ]
  },
  {
   "cell_type": "code",
   "execution_count": 23,
   "metadata": {},
   "outputs": [
    {
     "name": "stdout",
     "output_type": "stream",
     "text": [
      "Samsung Galaxy S8 available at Rs 38,000, but should you buy it over OnePlus 6, Honor 10\n",
      "Samsung's 2017 flagship smartphone, the Galaxy S8, was launched in India last year at around Rs 58,000. Around 14 months later, the smartphone can now be found for as low as Rs 38,000 on Paytm Mall. While the phone is actually listed at Rs 45,990, Paytm Mall is throwing in a cashback of Rs 8,000 as well via a promo code, which effectively brings the price of the Galaxy S8 down to Rs 37,990. This sounds like a pretty sweet deal considering all that tha flagship phone has to offer.There are a number of things to love about a phone that brings a near bezel-less Infinity Display along with top-notch hardware as well as some stellar cameras. At Rs 38,000, the Galaxy S8 sounds like a steal, or at least it would have been a clear choice for many had it been a few months ago. But now, the phone falls in the same segment as the OnePlus 6, which was launched in India a few weeks ago at an even lower price point of Rs 34,999. You also have the Honor 10, which is even more affordable at Rs 32,999. These are the phones Samsung's Galaxy S8 will be competing against and here's what you need to know.-- The Galaxy S8 comes with a gorgeous design that includes curved glass on the front and back and a display that stretches edge-to-edge. Its probably one of the best designed phones in a while (carried forward by the Galaxy S9) and also comes in a compact form factor that makes it feel extremely good to hold. The OnePlus 6 also features an all-glass design, but its bigger and doesn't quite match the Galaxy S8's aesthetics. The Honor 10 comes with an aurora glass back is able to reflect light, resulting in a psychedelic colour scheme that looks stunning and is probably the closest to taking on the Galaxy S8 in the design depratment.-- Out of the three phones, the Galaxy S8 is the only one to sport a 5.8-inch Quad HD+ Super AMOLED display, which means colours look vivid and punchy and the deep blacks look great as well. The OnePlus 6 and Honor 10 only manage to bring Full HD+ displays, which may sound a bit disappointing on paper, but real-world usage will not disappoint. All three phones offer bright and vivid displays, but the Galaxy S8 probably gets an edge (quite literally) thanks to Samsung's excellent panel. -- That being said, the OnePlus 6 and Honor 10 come with notches that allow for a larger screen real estate, which may attract some consumers out there who prefer the 2018 industry trend. The Galaxy S8's Infinity Display comes with symmetrical, narrow bezels on the top and bottom, which would please consumers looking for an affordable notch-less flagship right now.-- The Galaxy S8 also comes with some really great cameras that outclass the OnePlus 6 and the Honor 10. The 12-megapixel 'dual-pixel' rear camera with f/1.7 aperture takes some great pictures in broad daylight and also does well in low-light and the same can be said about the front camera as well. At the time, the phone could easily take on the cameras on the Pixel and iPhone 7.-- The OnePlus 6, on the other hand, doesn't fall in the same ballpark as the Galaxy S8 when it comes to photography. OnePlus flagship manages to capture good shots outdoors with good colours and detail, but the phone fails in low-light conditions. Meanwhile, the Honor 10 gets a lot of AI help thanks to its chipset which helps capture better photos compared to the OnePlus 6. But the Honor 10 is only as good as its price tag and doesn't come close to the Galaxy S8.-- While the Galaxy S8 looks stunning and comes with exceptional cameras, the biggest issue with the flagship is its software. The phone was launched with Android 7.0 Nougat-based TouchWiz UI and received the Oreo update only a few months ago. While Samsung's skin is a lot better compared to the olden days, it still comes with a lot of duplicate apps, which can start to weigh down the phone after a while.-- The OnePlus 6 is the closest to stock Android among the three and offers an exceptionally smooth and responsive UI with a very light OxygenOS skin on top. It also ships with Oreo out-of-the-box and is guaranteed to get Android P in the future and possibly Android Q as well. The same cannot be said of the Galaxy S8, unfortunately, and timely security updates are also going to be an issue here, especially now that the phone has aged. Even the Honor 10 ships with Android 8.1 Oreo-based EMUI 8.1 which is pretty cluttered and confusing. So as far as latest, clutter-free and secure Android software goes, the OnePlus 6 takes the cake. -- A good chipset is what drives the overall experience and the Galaxy S8 does come with last years flagship chipset - Exynos 8895. While not a Snapdragon SoC, the Exynos chip makes the Galaxy S8 feel smooth and is quite capable of handling intensive tasks. But we are in 2018 now and the chipset inevitably will be compared to the likes of the newer Snapdragon 845 that powers the OnePlus 6. In this battle, a dated chip like the Exynos 8895 will start to wane. The OnePlus 6 is the cheapest smartphone in India to sport the latest Snapdragon 845 chipset, making it a stellar option at Rs 34,999.-- The OnePlus 6 is ridiculously fast and performs smoothly no matter what you throw at it. Whether it is graphic intensive games or multitasking, the OnePlus 6 will breeze through anything and a lot of the credit also goes to how well optimised the software and chipset are. The Honor 10 with a Kirin 970 chipset is also a snappy performer, but even this falls a little short of the Snapdragon 845 SoC.-- The 3,000mAh battery inside the Galaxy S8 will make you want more after a day full of intensive usage. On an average, the phone should get you through the day but on other days you may find yourself reaching for the charger twice. The Honor 10 is also pretty much on the same boat here. Despite a larger 3,400mAh battery, the Honor 10 will find it difficult to go beyond a day. Again, its the OnePlus 6 that really manages battery life extremely well, promising a good day and a half worth of battery life even with intensive use.-- In conclusion, the Galaxy S8 at Rs 38,000 is a fantastic deal if what you're looking for is a stellar design, a gorgeous Quad HD+ display and exceptional cameras. But when it comes to software, chipset and battery life, the OnePlus 6 and Honor 10 are the better options and they also come in cheaper as well.ALSO READ: Is this Samsung Galaxy S10? Probably not, it's too early to talk about next Galaxy\n"
     ]
    }
   ],
   "source": [
    "records6=[]\n",
    "headline = soup.find('h1', attrs={'itemprop':'headline'}).text\n",
    "story = soup.find('div', attrs={'itemprop':'articleBody'}).text\n",
    "print(headline)\n",
    "print(story)\n",
    "records6.append((headline,story))"
   ]
  },
  {
   "cell_type": "code",
   "execution_count": 24,
   "metadata": {},
   "outputs": [
    {
     "data": {
      "text/html": [
       "<div>\n",
       "<style scoped>\n",
       "    .dataframe tbody tr th:only-of-type {\n",
       "        vertical-align: middle;\n",
       "    }\n",
       "\n",
       "    .dataframe tbody tr th {\n",
       "        vertical-align: top;\n",
       "    }\n",
       "\n",
       "    .dataframe thead th {\n",
       "        text-align: right;\n",
       "    }\n",
       "</style>\n",
       "<table border=\"1\" class=\"dataframe\">\n",
       "  <thead>\n",
       "    <tr style=\"text-align: right;\">\n",
       "      <th></th>\n",
       "      <th>headline</th>\n",
       "      <th>story</th>\n",
       "    </tr>\n",
       "  </thead>\n",
       "  <tbody>\n",
       "    <tr>\n",
       "      <th>0</th>\n",
       "      <td>Samsung Galaxy S8 available at Rs 38,000, but ...</td>\n",
       "      <td>Samsung's 2017 flagship smartphone, the Galaxy...</td>\n",
       "    </tr>\n",
       "  </tbody>\n",
       "</table>\n",
       "</div>"
      ],
      "text/plain": [
       "                                            headline  \\\n",
       "0  Samsung Galaxy S8 available at Rs 38,000, but ...   \n",
       "\n",
       "                                               story  \n",
       "0  Samsung's 2017 flagship smartphone, the Galaxy...  "
      ]
     },
     "execution_count": 24,
     "metadata": {},
     "output_type": "execute_result"
    }
   ],
   "source": [
    "df5=pd.DataFrame(records6, columns=['headline', 'story'])\n",
    "df5.head()"
   ]
  },
  {
   "cell_type": "code",
   "execution_count": 25,
   "metadata": {},
   "outputs": [],
   "source": [
    "df5.to_csv('A5.csv', index=False, encoding='utf-8')"
   ]
  },
  {
   "cell_type": "markdown",
   "metadata": {},
   "source": [
    "# India Today"
   ]
  },
  {
   "cell_type": "code",
   "execution_count": 40,
   "metadata": {},
   "outputs": [],
   "source": [
    "link=\"https://www.indiatoday.in/technology/news/story/samsung-galaxy-s8-to-be-sold-with-flat-discount-of-rs-27-910-in-flipkart-sale-1356488-2018-10-05\"\n",
    "a = requests.get(link)\n",
    "soup = BeautifulSoup(a.text, 'html.parser')"
   ]
  },
  {
   "cell_type": "code",
   "execution_count": 41,
   "metadata": {},
   "outputs": [
    {
     "name": "stdout",
     "output_type": "stream",
     "text": [
      "Old but gold? Flagship Galaxy S8 to be sold with flat discount of Rs 27,910 in Flipkart sale\n",
      "Last year in April, Samsung had launched the Galaxy S8, its flagship phone for year 2017 at a price of Rs 57,900. This was the top Samsung phone until early this year when the Galaxy S9 arrived. Now, in the latest festive sale Samsung and Flipkart have teamed up to sell the Galaxy S8 at a price of Rs 29,990 after a flat discount of Rs 27,910 on the original MRP.Rs 29,990 will be the price of the Galaxy S8 on Flipkart during the Big Billion Days sale that will start on the site from October 10 and will last until October 14.Although, the Galaxy S8 was launched one and half years ago, you can't deny that this is a premium, high-end phone that has top class components. So, given how good is the new price on the Galaxy S8, by any measure Rs 29,990 is a great price for this phone, should you buy it in case if you are looking to purchase a high-end phone? With some caveats, we will say the answer is yes.Now before we get into the details, let's look at what you will get with the Galaxy S8 if you buy it for Rs 29,999 in the Flipkart sale. The Galaxy S8 has a fantastic glass and metal design and superb curved screen that is unique to it. It is also a phone with powerful Exynos 8895 processor, 64GB fast storage, and 4GB RAM. The primary camera in the Galaxy S8 is one of the best we have seen in a phone, and remains so even one year after its launch. Even now, the pictures that you will click with the 12-megapixel rear camera of the Galaxy S8 will be for all practical purposes as good as the images clicked with high-end phones launched this year. In fact, it is safe to say that with its new price, the Galaxy S8 is the phone with the best camera under Rs 30,000.Here is what we said about the Galaxy S8, when we had reviewed the phone over here at the India Today Tech.The Galaxy S8 is Samsung's best phone ever. In fact, it's safe to say, that it's the best Android phone in the market right now. I like the Galaxy S8 more because it's more handy and convenient. But, the 3,000mAh battery inside the Galaxy S8 does leave me asking for more. While most users would be able to get one full working day of usage out of it, heavy users will have to charge it at least twice every day. It charges like a speeding bullet though which is a big plus.The Galaxy S8 has a fantastic glass and metal design and superb curved screen that is unique to it. It is also a phone with powerful Exynos 8895 processor, 64GB fast storage, and 4GB RAM.In other words, if you want to own a high-end Samsung Galaxy phone and want to enjoy the brilliant screen and camera these phones come with, this is your chance because at Rs 29,990, the Galaxy S8 is one hell of a deal.ALSO READ: Samsung Galaxy Tab A 10.5 review: The go-to Android tabletBut now, the caveats: The problem for the Galaxy S8 now is that we are living in 2018 and not 2017. There are some other out in the market. The OnePlus 6, for example, is a better and more recent phone compared to the Galaxy S8, and that is also going on sale -- at Amazon -- at a price of Rs 29,999 from October 10 to October 15. Then there are other phones, such as Xiaomi Poco F1, which is cheaper and barring the screen, camera and design, are as good as the Galaxy S8. Samsung's delay in bringing latest version of Android to its older phones is an issue too. The Galaxy S8 is yet to get Android 9 Pie, and because it is already one and half years old, it will continue to fall behind in the list of phones that will get latest Android updates.Having said that, if we have to vote for the best phones to buy under Rs 30,000 right now, we will vote for the Galaxy S8 for second spot, just marginally behind the OnePlus 6. It's so good that despite being a phone from April last year it can more than compete with the latest phones.\n"
     ]
    }
   ],
   "source": [
    "records7=[]\n",
    "headline = soup.find('h1', attrs={'itemprop':'headline'}).text\n",
    "story = soup.find('div', attrs={'itemprop':'articleBody'}).text\n",
    "print(headline)\n",
    "print(story)\n",
    "records7.append((headline,story))"
   ]
  },
  {
   "cell_type": "code",
   "execution_count": 42,
   "metadata": {},
   "outputs": [
    {
     "data": {
      "text/html": [
       "<div>\n",
       "<style scoped>\n",
       "    .dataframe tbody tr th:only-of-type {\n",
       "        vertical-align: middle;\n",
       "    }\n",
       "\n",
       "    .dataframe tbody tr th {\n",
       "        vertical-align: top;\n",
       "    }\n",
       "\n",
       "    .dataframe thead th {\n",
       "        text-align: right;\n",
       "    }\n",
       "</style>\n",
       "<table border=\"1\" class=\"dataframe\">\n",
       "  <thead>\n",
       "    <tr style=\"text-align: right;\">\n",
       "      <th></th>\n",
       "      <th>headline</th>\n",
       "      <th>story</th>\n",
       "    </tr>\n",
       "  </thead>\n",
       "  <tbody>\n",
       "    <tr>\n",
       "      <th>0</th>\n",
       "      <td>Old but gold? Flagship Galaxy S8 to be sold wi...</td>\n",
       "      <td>Last year in April, Samsung had launched the G...</td>\n",
       "    </tr>\n",
       "  </tbody>\n",
       "</table>\n",
       "</div>"
      ],
      "text/plain": [
       "                                            headline  \\\n",
       "0  Old but gold? Flagship Galaxy S8 to be sold wi...   \n",
       "\n",
       "                                               story  \n",
       "0  Last year in April, Samsung had launched the G...  "
      ]
     },
     "execution_count": 42,
     "metadata": {},
     "output_type": "execute_result"
    }
   ],
   "source": [
    "df6=pd.DataFrame(records7, columns=['headline', 'story'])\n",
    "df6.head()"
   ]
  },
  {
   "cell_type": "code",
   "execution_count": 43,
   "metadata": {},
   "outputs": [],
   "source": [
    "df6.to_csv('A6.csv', index=False, encoding='utf-8')"
   ]
  },
  {
   "cell_type": "markdown",
   "metadata": {},
   "source": [
    "# telecom talk"
   ]
  },
  {
   "cell_type": "code",
   "execution_count": 28,
   "metadata": {},
   "outputs": [],
   "source": [
    "link=\"https://telecomtalk.info/oneplus-6-samsung-galaxy-s8/177009/\"\n",
    "a = requests.get(link)\n",
    "soup = BeautifulSoup(a.text, 'html.parser')"
   ]
  },
  {
   "cell_type": "code",
   "execution_count": 29,
   "metadata": {},
   "outputs": [
    {
     "name": "stdout",
     "output_type": "stream",
     "text": [
      "OnePlus 6 and Samsung Galaxy S8 Pitted Against Each Other\n",
      "\n",
      "The very popular Chinese manufacturer OnePlus has recently launched its new flagship phone in India. The OnePlus 6, which happens to be making a lot of rounds of the internet owing to its impressive price point and specifications as finally been launched in India too. To take on OnePlus’s launch of its new device Samsung is also highlighting its last year’s release- the Samsung Galaxy S8 with a tagline of “More than just speed” which clearly takes a jab on OnePlus’s tagline which reads “The Speed you need.” With both the brands diving head first, into the competition, we decided to do a parallel comparison of both the phones to see which one fares better.\n",
      "\n",
      "Display\n",
      "The new display has been one of the many prime highlights of the OnePlus 6. With its 6.28-inch Full HD+ display and the 1080 × 2280 pixels, the screen does indeed stand out. There is also the 19:9 aspect ratio screen along with the notch design. The Samsung Galaxy S8, in contrast, comes with a 5.8-inch Quad HD+ display which maps up a resolution of 1440 × 2960 pixels and sports an aspect ratio of 18.5:9.\n",
      "Performance\n",
      "The OnePlus 6 really shines in terms of performance as it comes with the latest Snapdragon 845 octa-core SoC under the hood. This powerful CPU comes paired with 6GB of RAM with 64GB storage. Although there are no expandable storage options available, OnePlus does provide two more variants to this phone with 128GB and 256GB internal storage.\n",
      "\n",
      "Speaking of Samsung, the Galaxy S8 ships with the Exynos 8895 octa-core SoC which runs on 4GB of RAM and 64GB storage. Unlike the OnePlus 6, Samsung S8 users will have an option of expandable storage, however, the presence of hybrid SIM slot will mean that they will only be able to use a second SIM or a microSD card.\n",
      "Cameras\n",
      "Like all the up-to-date smartphone cameras of today, the OnePlus 6 also sports a dual camera setup which comprises of a 16MP primary sensor and the second sensor of 20MP which is going to help in adding the bokeh effect to the images. On the front, OnePlus has provided the user with a 16MP camera video calling and selfie purposes.\n",
      "The Samsung Galaxy S8 differs a bit in this regard and comes with only a single rear camera of 12MP resolution. The sensor also has a f/1.7 aperture. On the front, Samsung has provided users with an 8MP auto-focus sensor for selfies and video calling.\n",
      "In the power and stamina department, the OnePlus 6 holds up well owing to its 3300mAh battery and the Dash Charging capabilities. The Galaxy S8 doesn’t get left far behind and ships 3,000mAh of battery with both wireless charging and fast charging capabilities.\n",
      "\n",
      "There are also no issues in connectivity as both the phones come with dual-SIM, 4G LTE with VoLTE connectivity, GPS, and Bluetooth. Both the phones also use the USB Type-C for charging. The OnePlus 6 has support for dual 4G too.\n",
      "Software\n",
      "The Software on both the devices remains updated too with both of them running Android Oreo. OnePlus and Samsung both like to give their signature feel to the UI of the devices, thus the OnePlus 6 comes with the popular OxygenOS on top of Android 8.1 Oreo while the Samsung S8 comes with the Experience UI. There is also the fingerprint scanner on both the phones. The Samsung phone has a plus point when it comes to the IP68 rating for being water and dust resistant along with the phone supporting NFC. Lastly, for security, the Samsung comes with the iris scanner while the OnePlus 6 ships with face unlock technology.\n",
      "Price and availability\n",
      "While the new OnePlus 6 price in India starts at Rs 34,999 for the entry-level 64GB model, the rest two models with 128GB storage and 256GB storage are priced at Rs 39,999 and Rs 44,999, respectively. As for the availability of the device, the phone will go on sale on May 21 for Amazon Prime members and will be open for purchase to all starting May 21. OnePlus 6’s competitor the Samsung Galaxy S8, on the other hand, is a bit exorbitantly priced at Rs 45,990 but there is also a Paytm cashback deal going on for this phone, which has brought down the effective rate to Rs 37,990. There is also an EMI option for the phone which starts at Rs 5,110 and gives the users an EMI scheme for nine months.\n",
      "Conclusion\n",
      "It’s just very clear. The OnePlus 6 is a 2018 flagship smartphone, while the Samsung Galaxy S8 is 2017’s flagship smartphone. If you’re looking for an option, get the OnePlus 6 ahead of the Galaxy S8 because it’s better than the Galaxy S8 in several aspects, but there are some additional features though. The S8 packs IP68 water resistance and has wireless charging support too. The display on the S8 is a Quad HD+ one, not the Full HD+ one as seen on the OnePlus 6. The processing power, battery, clean stock Android makes the OnePlus 6 standout when compared to the Galaxy S8.\n",
      "\n"
     ]
    }
   ],
   "source": [
    "records8=[]\n",
    "headline = soup.find('h1', attrs={'class':'entry-title'}).text\n",
    "story = soup.find('div', attrs={'class':'content-pt'}).text\n",
    "print(headline)\n",
    "print(story)\n",
    "records8.append((headline,story))"
   ]
  },
  {
   "cell_type": "code",
   "execution_count": 30,
   "metadata": {},
   "outputs": [
    {
     "data": {
      "text/html": [
       "<div>\n",
       "<style scoped>\n",
       "    .dataframe tbody tr th:only-of-type {\n",
       "        vertical-align: middle;\n",
       "    }\n",
       "\n",
       "    .dataframe tbody tr th {\n",
       "        vertical-align: top;\n",
       "    }\n",
       "\n",
       "    .dataframe thead th {\n",
       "        text-align: right;\n",
       "    }\n",
       "</style>\n",
       "<table border=\"1\" class=\"dataframe\">\n",
       "  <thead>\n",
       "    <tr style=\"text-align: right;\">\n",
       "      <th></th>\n",
       "      <th>headline</th>\n",
       "      <th>story</th>\n",
       "    </tr>\n",
       "  </thead>\n",
       "  <tbody>\n",
       "    <tr>\n",
       "      <th>0</th>\n",
       "      <td>OnePlus 6 and Samsung Galaxy S8 Pitted Against...</td>\n",
       "      <td>\\nThe very popular Chinese manufacturer OnePlu...</td>\n",
       "    </tr>\n",
       "  </tbody>\n",
       "</table>\n",
       "</div>"
      ],
      "text/plain": [
       "                                            headline  \\\n",
       "0  OnePlus 6 and Samsung Galaxy S8 Pitted Against...   \n",
       "\n",
       "                                               story  \n",
       "0  \\nThe very popular Chinese manufacturer OnePlu...  "
      ]
     },
     "execution_count": 30,
     "metadata": {},
     "output_type": "execute_result"
    }
   ],
   "source": [
    "df7=pd.DataFrame(records8, columns=['headline', 'story'])\n",
    "df7.head()"
   ]
  },
  {
   "cell_type": "code",
   "execution_count": 31,
   "metadata": {},
   "outputs": [],
   "source": [
    "df7.to_csv('A7.csv', index=False, encoding='utf-8')"
   ]
  },
  {
   "cell_type": "code",
   "execution_count": 46,
   "metadata": {},
   "outputs": [],
   "source": [
    "pd.concat([df, df1, df2, df3, df4, df5, df6, df7], axis=1).to_csv('Stories.csv')"
   ]
  },
  {
   "cell_type": "code",
   "execution_count": 33,
   "metadata": {},
   "outputs": [],
   "source": [
    "import pandas as pd"
   ]
  },
  {
   "cell_type": "code",
   "execution_count": null,
   "metadata": {},
   "outputs": [],
   "source": []
  }
 ],
 "metadata": {
  "kernelspec": {
   "display_name": "Python 3",
   "language": "python",
   "name": "python3"
  },
  "language_info": {
   "codemirror_mode": {
    "name": "ipython",
    "version": 3
   },
   "file_extension": ".py",
   "mimetype": "text/x-python",
   "name": "python",
   "nbconvert_exporter": "python",
   "pygments_lexer": "ipython3",
   "version": "3.7.3"
  }
 },
 "nbformat": 4,
 "nbformat_minor": 2
}
