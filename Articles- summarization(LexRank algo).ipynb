{
 "cells": [
  {
   "cell_type": "code",
   "execution_count": 1,
   "metadata": {},
   "outputs": [],
   "source": [
    "import sumy\n",
    "from sumy.parsers.plaintext import PlaintextParser\n",
    "from sumy.nlp.tokenizers import Tokenizer\n",
    "from sumy.summarizers.lex_rank import LexRankSummarizer"
   ]
  },
  {
   "cell_type": "code",
   "execution_count": 2,
   "metadata": {},
   "outputs": [],
   "source": [
    "import pandas as pd"
   ]
  },
  {
   "cell_type": "code",
   "execution_count": 8,
   "metadata": {},
   "outputs": [],
   "source": [
    "LANGUAGE = \"english\""
   ]
  },
  {
   "cell_type": "code",
   "execution_count": 17,
   "metadata": {},
   "outputs": [],
   "source": [
    "parser=PlaintextParser.from_file(\"C:/Users/kavya/Desktop/Article1.txt\", Tokenizer(LANGUAGE))"
   ]
  },
  {
   "cell_type": "code",
   "execution_count": 32,
   "metadata": {},
   "outputs": [
    {
     "name": "stdout",
     "output_type": "stream",
     "text": [
      "(<Sentence: The Galaxy S8, on the other hand, may never see Pie and the Experience UI does start weighing down on the phone after a while.In the end, if you're looking for a dependable phone that offers a consistently smooth user experience with regular security updates, the OnePlus 6 is your best bet.>,)\n"
     ]
    }
   ],
   "source": [
    "summarizer = LexRankSummarizer()\n",
    "summary = summarizer(parser.document, 1)\n",
    "print(summary)"
   ]
  },
  {
   "cell_type": "code",
   "execution_count": 33,
   "metadata": {},
   "outputs": [],
   "source": [
    "parser2=PlaintextParser.from_file(\"C:/Users/kavya/Desktop/Article2.txt\", Tokenizer(LANGUAGE))"
   ]
  },
  {
   "cell_type": "code",
   "execution_count": 34,
   "metadata": {},
   "outputs": [
    {
     "name": "stdout",
     "output_type": "stream",
     "text": [
      "(<Sentence: Switching from the iPhone XS Max to the Google Pixel 3 XLClancy MorganI've been a diehard Apple user for as long as I can remember, and I've exclusively used iPhones since I got the original shortly after it came out in 2007.When it came time to retire my iPhone 6S this year, I was frustrated by the high price of Apple's newest phones, the XS and the XR.After reading about the highly-reviewed OnePlus 6T, I decided to give it - and Google's Android operating system - a try.After three weeks, I'm in love with the the OnePlus's high-end feel for an affordable price and Android's customizability and intuitiveness.>,)\n"
     ]
    }
   ],
   "source": [
    "summarizer = LexRankSummarizer()\n",
    "summary = summarizer(parser2.document, 1)\n",
    "print(summary)"
   ]
  },
  {
   "cell_type": "code",
   "execution_count": 35,
   "metadata": {},
   "outputs": [],
   "source": [
    "parser3=PlaintextParser.from_file(\"C:/Users/kavya/Desktop/Article3.txt\", Tokenizer(LANGUAGE))"
   ]
  },
  {
   "cell_type": "code",
   "execution_count": 40,
   "metadata": {},
   "outputs": [],
   "source": [
    "summarizer = LexRankSummarizer()\n",
    "summary = summarizer(parser3.document, 20)\n"
   ]
  },
  {
   "cell_type": "code",
   "execution_count": 42,
   "metadata": {},
   "outputs": [],
   "source": [
    "parser4=PlaintextParser.from_file(\"C:/Users/kavya/Desktop/Article4.txt\", Tokenizer(LANGUAGE))"
   ]
  },
  {
   "cell_type": "code",
   "execution_count": 44,
   "metadata": {},
   "outputs": [
    {
     "name": "stdout",
     "output_type": "stream",
     "text": [
      "(<Sentence: And it seems that those who use OnePlus phones want to keep using their phone for longer than they will use other premium phones.In recent research by Counterpoint, it has been stated that OnePlus users are using their smartphones longer than users of premium smartphones from other brands.>,)\n"
     ]
    }
   ],
   "source": [
    "summarizer = LexRankSummarizer()\n",
    "summary = summarizer(parser4.document, 1)\n",
    "print(summary)"
   ]
  },
  {
   "cell_type": "code",
   "execution_count": 47,
   "metadata": {},
   "outputs": [],
   "source": [
    "parser5=PlaintextParser.from_file(\"C:/Users/kavya/Desktop/Article5.txt\", Tokenizer(LANGUAGE))"
   ]
  },
  {
   "cell_type": "code",
   "execution_count": 50,
   "metadata": {},
   "outputs": [
    {
     "name": "stdout",
     "output_type": "stream",
     "text": [
      "(<Sentence: \"The OnePlus 6T is not a phone you want to think too hard about, because if you do, you’ll realise that it’s not the phone you thought it was.>, <Sentence: It’s gorgeous, it’s fast and it’s powerful.>)\n"
     ]
    }
   ],
   "source": [
    "summarizer = LexRankSummarizer()\n",
    "summary = summarizer(parser5.document, 2)\n",
    "print(summary)"
   ]
  },
  {
   "cell_type": "code",
   "execution_count": null,
   "metadata": {},
   "outputs": [],
   "source": []
  },
  {
   "cell_type": "code",
   "execution_count": 51,
   "metadata": {},
   "outputs": [],
   "source": [
    "parser6=PlaintextParser.from_file(\"C:/Users/kavya/Desktop/Article6.txt\", Tokenizer(LANGUAGE))"
   ]
  },
  {
   "cell_type": "code",
   "execution_count": 52,
   "metadata": {},
   "outputs": [
    {
     "name": "stdout",
     "output_type": "stream",
     "text": [
      "(<Sentence: It is also a phone with powerful Exynos 8895 processor, 64GB fast storage, and 4GB RAM.In other words, if you want to own a high-end Samsung Galaxy phone and want to enjoy the brilliant screen and camera these phones come with, this is your chance because at Rs 29,990, the Galaxy S8 is one hell of a deal.ALSO READ: Samsung Galaxy Tab A 10.5 review: The go-to Android tabletBut now, the caveats: The problem for the Galaxy S8 now is that we are living in 2018 and not 2017.>, <Sentence: The Galaxy S8 is yet to get Android 9 Pie, and because it is already one and half years old, it will continue to fall behind in the list of phones that will get latest Android updates.Having said that, if we have to vote for the best phones to buy under Rs 30,000 right now, we will vote for the Galaxy S8 for second spot, just marginally behind the OnePlus 6.>)\n"
     ]
    }
   ],
   "source": [
    "summarizer = LexRankSummarizer()\n",
    "summary = summarizer(parser6.document, 2)\n",
    "print(summary)"
   ]
  },
  {
   "cell_type": "code",
   "execution_count": null,
   "metadata": {},
   "outputs": [],
   "source": []
  }
 ],
 "metadata": {
  "kernelspec": {
   "display_name": "Python 3",
   "language": "python",
   "name": "python3"
  },
  "language_info": {
   "codemirror_mode": {
    "name": "ipython",
    "version": 3
   },
   "file_extension": ".py",
   "mimetype": "text/x-python",
   "name": "python",
   "nbconvert_exporter": "python",
   "pygments_lexer": "ipython3",
   "version": "3.7.3"
  }
 },
 "nbformat": 4,
 "nbformat_minor": 2
}
